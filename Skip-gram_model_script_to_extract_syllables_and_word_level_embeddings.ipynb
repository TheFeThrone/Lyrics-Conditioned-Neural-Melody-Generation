{
 "cells": [
  {
   "cell_type": "markdown",
   "metadata": {},
   "source": [
    "#### Python script to extract syllabel and word level embeddings\n",
    "This python script extracts syllable and word level embeddings from the skip-gram models trained on a large scale English popular music lyrics. The trained models can be found in the folder: lyric_encoders. We have trained models for embeddings vector dimens of 10, 50, 100 and 128. Depends on gensim. Install gensim as pip install gensim\n",
    "\n",
    "Date: 01-08-2019"
   ]
  },
  {
   "cell_type": "code",
   "execution_count": 11,
   "metadata": {},
   "outputs": [],
   "source": [
    "from gensim.models import Word2Vec"
   ]
  },
  {
   "cell_type": "code",
   "execution_count": 12,
   "metadata": {},
   "outputs": [],
   "source": [
    "import os\n",
    "import numpy as np"
   ]
  },
  {
   "cell_type": "code",
   "execution_count": 13,
   "metadata": {},
   "outputs": [],
   "source": [
    "syllModel = Word2Vec.load('./lyric_encoders/syllEncoding_skipgram_2019_05_22_10_dim.bin')\n",
    "wordModel = Word2Vec.load('./lyric_encoders/wordLevelEncoder_skipgram_2019_05_22_10_dim.bin')"
   ]
  },
  {
   "cell_type": "code",
   "execution_count": 14,
   "metadata": {},
   "outputs": [],
   "source": [
    "syll_lyrics = ['I', 'love', 'ma', 'chine', 'learn', 'ing']\n",
    "word_lyrics = ['I', 'love', 'machine', 'learning']"
   ]
  },
  {
   "cell_type": "code",
   "execution_count": 15,
   "metadata": {},
   "outputs": [
    {
     "name": "stdout",
     "output_type": "stream",
     "text": [
      "('I', array([-0.22207035,  0.39590135, -0.28161418,  0.31939146,  0.14351998,\n",
      "        0.27962768, -0.48630777, -0.27517286, -0.46339002, -0.43477133],\n",
      "      dtype=float32))\n",
      "('love', array([-0.31302723,  0.3292326 ,  0.30966124, -0.10211121, -0.00813345,\n",
      "        0.12078996, -0.24054198, -0.6095056 ,  0.03751077, -1.3713914 ],\n",
      "      dtype=float32))\n",
      "('ma', array([-0.06091097, -0.18601097, -0.07452773,  1.194091  ,  0.25623518,\n",
      "        0.76731473,  0.36820665, -0.34069607,  1.3452513 , -0.95194626],\n",
      "      dtype=float32))\n",
      "('chine', array([ 0.1653015 , -0.5695746 ,  0.47303092,  1.0499983 , -0.589305  ,\n",
      "        0.46558928,  0.36057833, -0.46806663,  1.1372067 , -1.1844867 ],\n",
      "      dtype=float32))\n",
      "('learn', array([-0.43222353,  0.7567424 ,  0.78301024,  0.22462621,  0.4546705 ,\n",
      "        0.42291647, -0.27276883, -0.13641357, -0.13948512, -1.2251908 ],\n",
      "      dtype=float32))\n",
      "('ing', array([ 0.11994383, -0.02840372,  0.77149576,  0.20621769, -0.26724872,\n",
      "       -0.04322262, -0.3804473 , -0.44641557, -0.23386613, -0.9003095 ],\n",
      "      dtype=float32))\n"
     ]
    }
   ],
   "source": [
    "# Extract syllable level embeddings\n",
    "\n",
    "for syll in syll_lyrics:\n",
    "    if syll not in syllModel.wv.vocab:\n",
    "        syll_emb = syllModel.wv['I']\n",
    "        print(syll, syll_emb)\n",
    "    else:\n",
    "        syll_emb = syllModel.wv[syll]\n",
    "        print(syll, syll_emb)"
   ]
  },
  {
   "cell_type": "code",
   "execution_count": 16,
   "metadata": {},
   "outputs": [
    {
     "name": "stdout",
     "output_type": "stream",
     "text": [
      "('I', array([-0.04833112,  0.1590318 , -0.11605258,  0.01226982, -0.04435916,\n",
      "       -0.04111193,  0.22174796, -0.8497301 , -0.44738093,  0.4237345 ],\n",
      "      dtype=float32))\n",
      "('love', array([-0.08729718, -0.11972886, -0.13687593, -0.37621015,  0.10407971,\n",
      "        0.7324834 ,  0.6517809 , -0.75942534, -0.15442745, -0.02792893],\n",
      "      dtype=float32))\n",
      "('machine', array([-0.48818734, -0.28050557,  0.7374693 , -0.4949068 ,  0.81296444,\n",
      "        0.9190356 ,  0.49818757, -0.97260904,  0.672087  ,  0.06502925],\n",
      "      dtype=float32))\n",
      "('learning', array([-0.6131305 ,  0.73140407,  0.6111747 ,  0.07433248,  0.2040902 ,\n",
      "        0.38182366,  0.4017809 , -1.102767  , -0.05361607, -0.6599967 ],\n",
      "      dtype=float32))\n"
     ]
    }
   ],
   "source": [
    "# Extract wordlevel embeddings\n",
    "\n",
    "for word in word_lyrics:\n",
    "    if word not in wordModel.wv.vocab:\n",
    "        word_emb = wordModel.wv['I']\n",
    "        print(word, word_emb)\n",
    "    else:\n",
    "        word_emb = wordModel.wv[word]\n",
    "        print(word, word_emb)"
   ]
  }
 ],
 "metadata": {
  "kernelspec": {
   "display_name": "Python 3",
   "language": "python",
   "name": "python3"
  },
  "language_info": {
   "codemirror_mode": {
    "name": "ipython",
    "version": 2
   },
   "file_extension": ".py",
   "mimetype": "text/x-python",
   "name": "python",
   "nbconvert_exporter": "python",
   "pygments_lexer": "ipython2",
   "version": "2.7.12"
  }
 },
 "nbformat": 4,
 "nbformat_minor": 2
}
